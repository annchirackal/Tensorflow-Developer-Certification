{
  "nbformat": 4,
  "nbformat_minor": 0,
  "metadata": {
    "colab": {
      "provenance": [],
      "gpuType": "T4",
      "authorship_tag": "ABX9TyNAbqn2mZSJd43NiSL+VPou",
      "include_colab_link": true
    },
    "kernelspec": {
      "name": "python3",
      "display_name": "Python 3"
    },
    "language_info": {
      "name": "python"
    },
    "accelerator": "GPU"
  },
  "cells": [
    {
      "cell_type": "markdown",
      "metadata": {
        "id": "view-in-github",
        "colab_type": "text"
      },
      "source": [
        "<a href=\"https://colab.research.google.com/github/annchirackal/Tensorflow-Developer-Certification/blob/TF_Transfer_Learning/12_Transfer_Learning.ipynb\" target=\"_parent\"><img src=\"https://colab.research.google.com/assets/colab-badge.svg\" alt=\"Open In Colab\"/></a>"
      ]
    },
    {
      "cell_type": "markdown",
      "source": [
        "#####What is transfer learning?<br>\n",
        "\n",
        "we can leverage an existing nueral network architecture proven to work on similar problems which is already learned patterns from dataset  similar  to our own.\n",
        "\n"
      ],
      "metadata": {
        "id": "DiCd_cqyfLEL"
      }
    },
    {
      "cell_type": "markdown",
      "source": [
        "Download the data:\n",
        "we are going to use only 10 percent data, this would help us to understand the powe of transfer learning."
      ],
      "metadata": {
        "id": "vBYco3CrisZy"
      }
    },
    {
      "cell_type": "code",
      "source": [
        "import tensorflow as tf\n",
        "import zipfile\n",
        "import os\n",
        "from tensorflow.keras.preprocessing.image import ImageDataGenerator\n",
        "\n",
        "import matplotlib.pyplot as plt\n",
        "import datetime\n",
        "\n",
        "import tensorflow_hub as hub\n",
        "from tensorflow.keras import layers"
      ],
      "metadata": {
        "id": "EJBuG3MjjlXQ"
      },
      "execution_count": 21,
      "outputs": []
    },
    {
      "cell_type": "code",
      "source": [
        "## Global variables\n",
        "IMAGE_SHAPE=(224,224)\n",
        "BATCH_SIZE=32\n",
        "EPOCHS=5"
      ],
      "metadata": {
        "id": "fkd5OTsVmpuf"
      },
      "execution_count": 22,
      "outputs": []
    },
    {
      "cell_type": "code",
      "execution_count": 23,
      "metadata": {
        "id": "-MEP_EHuFzu4"
      },
      "outputs": [],
      "source": [
        " !wget -q https://storage.googleapis.com/ztm_tf_course/food_vision/10_food_classes_10_percent.zip"
      ]
    },
    {
      "cell_type": "code",
      "source": [
        "# unzip the loaded file\n",
        "zip_ref=zipfile.ZipFile(\"/content/10_food_classes_10_percent.zip\")\n",
        "zip_ref.extractall()\n",
        "zip_ref.close()"
      ],
      "metadata": {
        "id": "tcZyd4uljVj9"
      },
      "execution_count": 24,
      "outputs": []
    },
    {
      "cell_type": "code",
      "source": [
        "  #lets inspect the directory\n",
        "for dirpath,dirnames,filenames in os.walk(\"10_food_classes_10_percent\"):\n",
        "\n",
        "    print(f\"{len(filenames)} files and  {len(dirnames)} in directory {dirpath}\")\n"
      ],
      "metadata": {
        "id": "-4beZA9Mj13X",
        "outputId": "6337a11b-0b51-41ff-e3d9-0144f950a9a0",
        "colab": {
          "base_uri": "https://localhost:8080/"
        }
      },
      "execution_count": 25,
      "outputs": [
        {
          "output_type": "stream",
          "name": "stdout",
          "text": [
            "0 files and  2 in directory 10_food_classes_10_percent\n",
            "0 files and  10 in directory 10_food_classes_10_percent/train\n",
            "75 files and  0 in directory 10_food_classes_10_percent/train/ice_cream\n",
            "75 files and  0 in directory 10_food_classes_10_percent/train/chicken_wings\n",
            "75 files and  0 in directory 10_food_classes_10_percent/train/grilled_salmon\n",
            "75 files and  0 in directory 10_food_classes_10_percent/train/chicken_curry\n",
            "75 files and  0 in directory 10_food_classes_10_percent/train/sushi\n",
            "75 files and  0 in directory 10_food_classes_10_percent/train/fried_rice\n",
            "75 files and  0 in directory 10_food_classes_10_percent/train/ramen\n",
            "75 files and  0 in directory 10_food_classes_10_percent/train/steak\n",
            "75 files and  0 in directory 10_food_classes_10_percent/train/hamburger\n",
            "75 files and  0 in directory 10_food_classes_10_percent/train/pizza\n",
            "0 files and  10 in directory 10_food_classes_10_percent/test\n",
            "250 files and  0 in directory 10_food_classes_10_percent/test/ice_cream\n",
            "250 files and  0 in directory 10_food_classes_10_percent/test/chicken_wings\n",
            "250 files and  0 in directory 10_food_classes_10_percent/test/grilled_salmon\n",
            "250 files and  0 in directory 10_food_classes_10_percent/test/chicken_curry\n",
            "250 files and  0 in directory 10_food_classes_10_percent/test/sushi\n",
            "250 files and  0 in directory 10_food_classes_10_percent/test/fried_rice\n",
            "250 files and  0 in directory 10_food_classes_10_percent/test/ramen\n",
            "250 files and  0 in directory 10_food_classes_10_percent/test/steak\n",
            "250 files and  0 in directory 10_food_classes_10_percent/test/hamburger\n",
            "250 files and  0 in directory 10_food_classes_10_percent/test/pizza\n"
          ]
        }
      ]
    },
    {
      "cell_type": "markdown",
      "source": [
        "We have 75 images of each class for traning and 250 from each class for validation"
      ],
      "metadata": {
        "id": "xDYxfpBUlovW"
      }
    },
    {
      "cell_type": "code",
      "source": [
        " #### set the path variables\n",
        "\n",
        "train_dir=\"/content/10_food_classes_10_percent/train\"\n",
        "test_dir=\"/content/10_food_classes_10_percent/test\"\n",
        "\n",
        "train_data_gen=ImageDataGenerator(rescale=1./255,)\n",
        "test_data_gen=ImageDataGenerator(rescale=1./255,)\n",
        "print(\"Traning Images:\")\n",
        "train_data=train_data_gen.flow_from_directory(train_dir,\n",
        "                                              target_size=IMAGE_SHAPE,\n",
        "                                              batch_size=BATCH_SIZE,\n",
        "                                              class_mode=\"categorical\")\n",
        "print(\"Testing Images:\")\n",
        "test_data=train_data_gen.flow_from_directory(test_dir,\n",
        "                                              target_size=IMAGE_SHAPE,\n",
        "                                              batch_size=BATCH_SIZE,\n",
        "                                              class_mode=\"categorical\")\n"
      ],
      "metadata": {
        "id": "8MSbJFBilnli",
        "outputId": "e2bd1ad9-a072-40eb-8872-350ee19e6632",
        "colab": {
          "base_uri": "https://localhost:8080/"
        }
      },
      "execution_count": 26,
      "outputs": [
        {
          "output_type": "stream",
          "name": "stdout",
          "text": [
            "Traning Images:\n",
            "Found 750 images belonging to 10 classes.\n",
            "Testing Images:\n",
            "Found 2500 images belonging to 10 classes.\n"
          ]
        }
      ]
    },
    {
      "cell_type": "markdown",
      "source": [
        "Callbacks are extra functionality you can add to your model to be performed during or after training.Some of the most popular call backs are\n",
        "- Model check point with the ModelCheckpoint callbacks.\n",
        "- Tracking experiment with tensor board callbacks.\n",
        "- Stopping a model from traning with EarlyStopping callbacks."
      ],
      "metadata": {
        "id": "lgLZmmCEGzF4"
      }
    },
    {
      "cell_type": "code",
      "source": [
        "#create a tensorboard callbacks\n",
        "\n",
        "def create_tensorboard_callback(dirname,experiment_name):\n",
        "  log_dir=dirname+\"/\"+experiment_name+datetime.datetime.now().strftime(\"%Y%m%d-%H%M%S\")\n",
        "  tensorboard_callback=tf.keras.callbacks.TensorBoard(log_dir=log_dir,)\n",
        "  print(f\"Saving TensorBorad log files to {log_dir} \")\n",
        "  return tensorboard_callback\n"
      ],
      "metadata": {
        "id": "Ck2geNTUmP7e"
      },
      "execution_count": 27,
      "outputs": []
    },
    {
      "cell_type": "markdown",
      "source": [
        "Creating Models using Tensorflow hub<br>\n",
        "\n",
        "In previous notebooks we have created custom models from scratch. Here we are creating a model by using layers from pretrained models availble in tensor hub.\n"
      ],
      "metadata": {
        "id": "HfsRi1knJ4Qt"
      }
    },
    {
      "cell_type": "code",
      "source": [
        "# Resnet 50 V2 feature vector\n",
        "resnet_url = \"https://tfhub.dev/google/imagenet/resnet_v2_50/feature_vector/4\"\n",
        "\n",
        "# Original: EfficientNetB0 feature vector (version 1)\n",
        "efficientnet_url = \"https://tfhub.dev/tensorflow/efficientnet/b0/feature-vector/1\"\n",
        "\n",
        "# # New: EfficientNetB0 feature vector (version 2)\n",
        "# efficientnet_url = \"https://tfhub.dev/google/imagenet/efficientnet_v2_imagenet1k_b0/feature_vector/2\""
      ],
      "metadata": {
        "id": "rpdJZxLSKpdj"
      },
      "execution_count": 28,
      "outputs": []
    },
    {
      "cell_type": "code",
      "source": [
        "def create_model(model_url, num_classes=10):\n",
        "  \"\"\"Takes a TensorFlow Hub URL and creates a Keras Sequential model with it.\n",
        "\n",
        "  Args:\n",
        "    model_url (str): A TensorFlow Hub feature extraction URL.\n",
        "    num_classes (int): Number of output neurons in output layer,\n",
        "      should be equal to number of target classes, default 10.\n",
        "\n",
        "  Returns:\n",
        "    An uncompiled Keras Sequential model with model_url as feature\n",
        "    extractor layer and Dense output layer with num_classes outputs.\n",
        "  \"\"\"\n",
        "  # Download the pretrained model and save it as a Keras layer\n",
        "  feature_extractor_layer = hub.KerasLayer(model_url,\n",
        "                                           trainable=False, # freeze the underlying patterns\n",
        "                                           name='feature_extraction_layer',\n",
        "                                           input_shape=IMAGE_SHAPE+(3,)) # define the input image shape\n",
        "\n",
        "  # Create our own model\n",
        "  model = tf.keras.Sequential([\n",
        "    feature_extractor_layer, # use the feature extraction layer as the base\n",
        "    layers.Dense(num_classes, activation='softmax', name='output_layer') # create our own output layer\n",
        "  ])\n",
        "\n",
        "  return model\n"
      ],
      "metadata": {
        "id": "ZKk3iXpROdab"
      },
      "execution_count": 29,
      "outputs": []
    },
    {
      "cell_type": "code",
      "source": [
        "# Create model\n",
        "resnet_model = create_model(resnet_url, num_classes=train_data.num_classes)\n",
        "\n",
        "# Compile\n",
        "resnet_model.compile(loss='categorical_crossentropy',\n",
        "                     optimizer=tf.keras.optimizers.Adam(),\n",
        "                     metrics=['accuracy'])\n"
      ],
      "metadata": {
        "id": "lLC36Jf4Oo_T"
      },
      "execution_count": 30,
      "outputs": []
    },
    {
      "cell_type": "code",
      "source": [
        "# Fit the model\n",
        "resnet_history = resnet_model.fit(train_data,\n",
        "                                  epochs=5,\n",
        "                                  steps_per_epoch=len(train_data),\n",
        "                                  validation_data=test_data,\n",
        "                                  validation_steps=len(test_data),\n",
        "                                  # Add TensorBoard callback to model (callbacks parameter takes a list)\n",
        "                                  callbacks=[create_tensorboard_callback(dirname=\"tensorflow_hub\", # save experiment logs here\n",
        "                                                                         experiment_name=\"resnet50V2\")]) # name of log"
      ],
      "metadata": {
        "id": "htYhKYaxOzrP",
        "outputId": "0fd4204b-265b-44a9-b96e-a2e97633c411",
        "colab": {
          "base_uri": "https://localhost:8080/"
        }
      },
      "execution_count": 31,
      "outputs": [
        {
          "output_type": "stream",
          "name": "stdout",
          "text": [
            "Saving TensorBorad log files to tensorflow_hub/resnet50V220240214-035950 \n",
            "Epoch 1/5\n",
            "24/24 [==============================] - 15s 482ms/step - loss: 1.9822 - accuracy: 0.3667 - val_loss: 1.2137 - val_accuracy: 0.6124\n",
            "Epoch 2/5\n",
            "24/24 [==============================] - 10s 446ms/step - loss: 0.9174 - accuracy: 0.7227 - val_loss: 0.8920 - val_accuracy: 0.7120\n",
            "Epoch 3/5\n",
            "24/24 [==============================] - 13s 542ms/step - loss: 0.6433 - accuracy: 0.8213 - val_loss: 0.7637 - val_accuracy: 0.7532\n",
            "Epoch 4/5\n",
            "24/24 [==============================] - 10s 439ms/step - loss: 0.4921 - accuracy: 0.8627 - val_loss: 0.7271 - val_accuracy: 0.7592\n",
            "Epoch 5/5\n",
            "24/24 [==============================] - 11s 455ms/step - loss: 0.4036 - accuracy: 0.8907 - val_loss: 0.6783 - val_accuracy: 0.7700\n"
          ]
        }
      ]
    },
    {
      "cell_type": "markdown",
      "source": [
        "Eventhouogh we used olnly 10% of the training data, we can see that the model performence increased compared to last one."
      ],
      "metadata": {
        "id": "c-IPjEmDPMJL"
      }
    },
    {
      "cell_type": "code",
      "source": [
        "# Plot the validation and training data separately\n",
        "def plot_loss_curves(history):\n",
        "  \"\"\"\n",
        "  Returns separate loss curves for training and validation metrics.\n",
        "  \"\"\"\n",
        "  loss = history.history['loss']\n",
        "  val_loss = history.history['val_loss']\n",
        "\n",
        "  accuracy = history.history['accuracy']\n",
        "  val_accuracy = history.history['val_accuracy']\n",
        "\n",
        "  epochs = range(len(history.history['loss']))\n",
        "\n",
        "  # Plot loss\n",
        "  plt.plot(epochs, loss, label='training_loss')\n",
        "  plt.plot(epochs, val_loss, label='val_loss')\n",
        "  plt.title('Loss')\n",
        "  plt.xlabel('Epochs')\n",
        "  plt.legend()\n",
        "\n",
        "  # Plot accuracy\n",
        "  plt.figure()\n",
        "  plt.plot(epochs, accuracy, label='training_accuracy')\n",
        "  plt.plot(epochs, val_accuracy, label='val_accuracy')\n",
        "  plt.title('Accuracy')\n",
        "  plt.xlabel('Epochs')\n",
        "  plt.legend();"
      ],
      "metadata": {
        "id": "YPPy5UAOPgBx"
      },
      "execution_count": 32,
      "outputs": []
    },
    {
      "cell_type": "code",
      "source": [
        "plot_loss_curves(resnet_history)"
      ],
      "metadata": {
        "id": "6QAuZ1YhPwCZ",
        "outputId": "a1c83dba-9e37-4840-e1a1-fc6fdf4f7792",
        "colab": {
          "base_uri": "https://localhost:8080/",
          "height": 927
        }
      },
      "execution_count": 33,
      "outputs": [
        {
          "output_type": "display_data",
          "data": {
            "text/plain": [
              "<Figure size 640x480 with 1 Axes>"
            ],
            "image/png": "[encoded data removed]"
          },
          "metadata": {}
        },
        {
          "output_type": "display_data",
          "data": {
            "text/plain": [
              "<Figure size 640x480 with 1 Axes>"
            ],
            "image/png": "[encoded data removed]"
          },
          "metadata": {}
        }
      ]
    },
    {
      "cell_type": "code",
      "source": [
        "# Create model\n",
        "efficientnet_model = create_model(model_url=efficientnet_url, # use EfficientNetB0 TensorFlow Hub URL\n",
        "                                  num_classes=train_data.num_classes)\n",
        "\n",
        "# Compile EfficientNet model\n",
        "efficientnet_model.compile(loss='categorical_crossentropy',\n",
        "                           optimizer=tf.keras.optimizers.Adam(),\n",
        "                           metrics=['accuracy'])\n",
        "\n",
        "# Fit EfficientNet model\n",
        "efficientnet_history = efficientnet_model.fit(train_data, # only use 10% of training data\n",
        "                                              epochs=5, # train for 5 epochs\n",
        "                                              steps_per_epoch=len(train_data),\n",
        "                                              validation_data=test_data,\n",
        "                                              validation_steps=len(test_data),\n",
        "                                              callbacks=create_tensorboard_callback(dirname=\"tensorflow_hub\",\n",
        "                                                                                     # Track logs under different experiment name\n",
        "                                                                                     experiment_name=\"efficientnetB0\"))"
      ],
      "metadata": {
        "id": "WdFT6lihP55X",
        "outputId": "66a0e521-1271-4d07-8297-c9749a4e22f6",
        "colab": {
          "base_uri": "https://localhost:8080/"
        }
      },
      "execution_count": 34,
      "outputs": [
        {
          "output_type": "stream",
          "name": "stdout",
          "text": [
            "Saving TensorBorad log files to tensorflow_hub/efficientnetB020240214-040116 \n",
            "Epoch 1/5\n",
            "24/24 [==============================] - 24s 576ms/step - loss: 1.8378 - accuracy: 0.4320 - val_loss: 1.2796 - val_accuracy: 0.7340\n",
            "Epoch 2/5\n",
            "24/24 [==============================] - 10s 413ms/step - loss: 1.0452 - accuracy: 0.7720 - val_loss: 0.8567 - val_accuracy: 0.8192\n",
            "Epoch 3/5\n",
            "24/24 [==============================] - 10s 415ms/step - loss: 0.7442 - accuracy: 0.8307 - val_loss: 0.6917 - val_accuracy: 0.8496\n",
            "Epoch 4/5\n",
            "24/24 [==============================] - 10s 420ms/step - loss: 0.5987 - accuracy: 0.8707 - val_loss: 0.6075 - val_accuracy: 0.8564\n",
            "Epoch 5/5\n",
            "24/24 [==============================] - 13s 538ms/step - loss: 0.5036 - accuracy: 0.8933 - val_loss: 0.5531 - val_accuracy: 0.8652\n"
          ]
        }
      ]
    },
    {
      "cell_type": "markdown",
      "source": [
        "# Transfer Learning with Tensorflow - Fine Tuning"
      ],
      "metadata": {
        "id": "TQ4Jvjy2teTY"
      }
    },
    {
      "cell_type": "code",
      "source": [
        "# Get helper_functions.py script from course GitHub\n",
        "!wget https://raw.githubusercontent.com/mrdbourke/tensorflow-deep-learning/main/extras/helper_functions.py\n",
        "\n",
        "# Import helper functions we're going to use\n",
        "from helper_functions import create_tensorboard_callback, plot_loss_curves, unzip_data, walk_through_dir"
      ],
      "metadata": {
        "id": "VtGtC1n4w6B1",
        "outputId": "f64b5aab-9554-4efe-8969-b97cec038520",
        "colab": {
          "base_uri": "https://localhost:8080/"
        }
      },
      "execution_count": 35,
      "outputs": [
        {
          "output_type": "stream",
          "name": "stdout",
          "text": [
            "--2024-02-14 04:02:36--  https://raw.githubusercontent.com/mrdbourke/tensorflow-deep-learning/main/extras/helper_functions.py\n",
            "Resolving raw.githubusercontent.com (raw.githubusercontent.com)... 185.199.108.133, 185.199.109.133, 185.199.110.133, ...\n",
            "Connecting to raw.githubusercontent.com (raw.githubusercontent.com)|185.199.108.133|:443... connected.\n",
            "HTTP request sent, awaiting response... 200 OK\n",
            "Length: 10246 (10K) [text/plain]\n",
            "Saving to: ‘helper_functions.py.1’\n",
            "\n",
            "\rhelper_functions.py   0%[                    ]       0  --.-KB/s               \rhelper_functions.py 100%[===================>]  10.01K  --.-KB/s    in 0s      \n",
            "\n",
            "2024-02-14 04:02:36 (65.8 MB/s) - ‘helper_functions.py.1’ saved [10246/10246]\n",
            "\n"
          ]
        }
      ]
    },
    {
      "cell_type": "markdown",
      "source": [
        "###Let's get some data\n",
        "Now we are going to use inbuild models in tf.keras.applications"
      ],
      "metadata": {
        "id": "b2Tzq94iy5zi"
      }
    },
    {
      "cell_type": "code",
      "source": [
        "# Get 10% of the data of the 10 classes\n",
        "!wget https://storage.googleapis.com/ztm_tf_course/food_vision/10_food_classes_10_percent.zip\n",
        "\n",
        "unzip_data(\"10_food_classes_10_percent.zip\")"
      ],
      "metadata": {
        "id": "NVwBMSpI0Tg4",
        "outputId": "b43d1ca4-2f04-4d8c-88af-aa98b5e5b283",
        "colab": {
          "base_uri": "https://localhost:8080/"
        }
      },
      "execution_count": 36,
      "outputs": [
        {
          "output_type": "stream",
          "name": "stdout",
          "text": [
            "--2024-02-14 04:02:37--  https://storage.googleapis.com/ztm_tf_course/food_vision/10_food_classes_10_percent.zip\n",
            "Resolving storage.googleapis.com (storage.googleapis.com)... 74.125.135.207, 74.125.199.207, 74.125.142.207, ...\n",
            "Connecting to storage.googleapis.com (storage.googleapis.com)|74.125.135.207|:443... connected.\n",
            "HTTP request sent, awaiting response... 200 OK\n",
            "Length: 168546183 (161M) [application/zip]\n",
            "Saving to: ‘10_food_classes_10_percent.zip.3’\n",
            "\n",
            "10_food_classes_10_ 100%[===================>] 160.74M   170MB/s    in 0.9s    \n",
            "\n",
            "2024-02-14 04:02:38 (170 MB/s) - ‘10_food_classes_10_percent.zip.3’ saved [168546183/168546183]\n",
            "\n"
          ]
        }
      ]
    },
    {
      "cell_type": "code",
      "source": [
        "\n",
        "# Walk through 10 percent data directory and list number of files\n",
        "walk_through_dir(\"10_food_classes_10_percent\")"
      ],
      "metadata": {
        "id": "heQA5HKz0WPV",
        "outputId": "5fe9b0b5-f103-4391-a6f3-f6ef9d2512a3",
        "colab": {
          "base_uri": "https://localhost:8080/"
        }
      },
      "execution_count": 37,
      "outputs": [
        {
          "output_type": "stream",
          "name": "stdout",
          "text": [
            "There are 2 directories and 0 images in '10_food_classes_10_percent'.\n",
            "There are 10 directories and 0 images in '10_food_classes_10_percent/train'.\n",
            "There are 0 directories and 75 images in '10_food_classes_10_percent/train/ice_cream'.\n",
            "There are 0 directories and 75 images in '10_food_classes_10_percent/train/chicken_wings'.\n",
            "There are 0 directories and 75 images in '10_food_classes_10_percent/train/grilled_salmon'.\n",
            "There are 0 directories and 75 images in '10_food_classes_10_percent/train/chicken_curry'.\n",
            "There are 0 directories and 75 images in '10_food_classes_10_percent/train/sushi'.\n",
            "There are 0 directories and 75 images in '10_food_classes_10_percent/train/fried_rice'.\n",
            "There are 0 directories and 75 images in '10_food_classes_10_percent/train/ramen'.\n",
            "There are 0 directories and 75 images in '10_food_classes_10_percent/train/steak'.\n",
            "There are 0 directories and 75 images in '10_food_classes_10_percent/train/hamburger'.\n",
            "There are 0 directories and 75 images in '10_food_classes_10_percent/train/pizza'.\n",
            "There are 10 directories and 0 images in '10_food_classes_10_percent/test'.\n",
            "There are 0 directories and 250 images in '10_food_classes_10_percent/test/ice_cream'.\n",
            "There are 0 directories and 250 images in '10_food_classes_10_percent/test/chicken_wings'.\n",
            "There are 0 directories and 250 images in '10_food_classes_10_percent/test/grilled_salmon'.\n",
            "There are 0 directories and 250 images in '10_food_classes_10_percent/test/chicken_curry'.\n",
            "There are 0 directories and 250 images in '10_food_classes_10_percent/test/sushi'.\n",
            "There are 0 directories and 250 images in '10_food_classes_10_percent/test/fried_rice'.\n",
            "There are 0 directories and 250 images in '10_food_classes_10_percent/test/ramen'.\n",
            "There are 0 directories and 250 images in '10_food_classes_10_percent/test/steak'.\n",
            "There are 0 directories and 250 images in '10_food_classes_10_percent/test/hamburger'.\n",
            "There are 0 directories and 250 images in '10_food_classes_10_percent/test/pizza'.\n"
          ]
        }
      ]
    },
    {
      "cell_type": "code",
      "source": [
        "\n",
        "# Create training and test directories\n",
        "train_dir = \"10_food_classes_10_percent/train/\"\n",
        "test_dir = \"10_food_classes_10_percent/test/\""
      ],
      "metadata": {
        "id": "U1WXZInP0enQ"
      },
      "execution_count": 38,
      "outputs": []
    },
    {
      "cell_type": "code",
      "source": [
        " #Create data inputs\n",
        "import tensorflow as tf\n",
        "IMG_SIZE = (224, 224) # define image size\n",
        "train_data_10_percent = tf.keras.preprocessing.image_dataset_from_directory(directory=train_dir,\n",
        "                                                                            image_size=IMG_SIZE,\n",
        "                                                                            label_mode=\"categorical\", # what type are the labels?\n",
        "                                                                            batch_size=32) # batch_size is 32 by default, this is generally a good number\n",
        "test_data_10_percent = tf.keras.preprocessing.image_dataset_from_directory(directory=test_dir,\n",
        "                                                                           image_size=IMG_SIZE,\n",
        "                                                                           label_mode=\"categorical\")\n"
      ],
      "metadata": {
        "id": "rRb6b8f30kUC",
        "outputId": "7c4d70c3-3cd0-4264-f469-1cc698868fbf",
        "colab": {
          "base_uri": "https://localhost:8080/"
        }
      },
      "execution_count": 39,
      "outputs": [
        {
          "output_type": "stream",
          "name": "stdout",
          "text": [
            "Found 750 files belonging to 10 classes.\n",
            "Found 2500 files belonging to 10 classes.\n"
          ]
        }
      ]
    },
    {
      "cell_type": "code",
      "source": [
        "\n",
        "# Check the training data datatype\n",
        "train_data_10_percent"
      ],
      "metadata": {
        "id": "xBuuFuoc0x0k",
        "outputId": "cb5d4ae6-b156-4709-ba81-6607bc324b0a",
        "colab": {
          "base_uri": "https://localhost:8080/"
        }
      },
      "execution_count": 40,
      "outputs": [
        {
          "output_type": "execute_result",
          "data": {
            "text/plain": [
              "<_PrefetchDataset element_spec=(TensorSpec(shape=(None, 224, 224, 3), dtype=tf.float32, name=None), TensorSpec(shape=(None, 10), dtype=tf.float32, name=None))>"
            ]
          },
          "metadata": {},
          "execution_count": 40
        }
      ]
    },
    {
      "cell_type": "code",
      "source": [],
      "metadata": {
        "id": "2YAsiM-fyY_z"
      },
      "execution_count": null,
      "outputs": []
    },
    {
      "cell_type": "markdown",
      "source": [
        "### Model 0 : Tranfer learnig feature extraction using keras functional API\n",
        "sequtional API's are straight forward , it passes the data through layers in sequential manner . But functional API gives us more flexibility\n"
      ],
      "metadata": {
        "id": "gxh7iswgzCAK"
      }
    },
    {
      "cell_type": "code",
      "source": [
        "# create  a base model\n",
        "base_model= tf.keras.applications.EfficientNetB0(include_top=False)\n",
        "\n",
        "#Freeze  base model\n",
        "base_model.trainable=False\n",
        "\n",
        "#Create a new input layer\n",
        "input=tf.keras.layers.Input(shape=(224,224,3),name=\"input_layer\")\n",
        "\n",
        "\n",
        "#For some models we may need to normalise input, so let's create a normalisation layer\n",
        "\n",
        "#x=tf.keras.layers.experimental.preprocessing.Rescaling(1/225)(inputs)\n",
        "\n",
        "#Pass the inputs to base model\n",
        "x=base_model(input)\n",
        "\n",
        "#Lets the shape of data after passing through the base model\n",
        "\n",
        "print(f\"Shape after passing through the base model :{x.shape}\")\n",
        "\n",
        "# Average pool the output of the base model\n",
        "\n",
        "x=tf.keras.layers.GlobalAveragePooling2D(name = \"global_average_pooling\")(x)\n",
        "print(f\"Shape after passing through the average pooling  :{x.shape}\")\n",
        "\n",
        "\n",
        "#Create the output activation layer\n",
        "\n",
        "output=tf.keras.layers.Dense(10,activation=\"softmax\",name=\"output_layer\")(x)\n",
        "\n",
        "## Combine the model\n",
        "\n",
        "model_0=tf.keras.Model(input,output)\n",
        "\n",
        "\n"
      ],
      "metadata": {
        "id": "YyXqBxivzcaO",
        "outputId": "3a6d582d-b8bb-4b01-c1bf-8846ecfe4325",
        "colab": {
          "base_uri": "https://localhost:8080/"
        }
      },
      "execution_count": 46,
      "outputs": [
        {
          "output_type": "stream",
          "name": "stdout",
          "text": [
            "Shape after passing through the base model :(None, 7, 7, 1280)\n",
            "Shape after passing through the average pooling  :(None, 1280)\n"
          ]
        }
      ]
    },
    {
      "cell_type": "code",
      "source": [],
      "metadata": {
        "id": "-3GnWCpC0QGM"
      },
      "execution_count": null,
      "outputs": []
    }
  ]
}