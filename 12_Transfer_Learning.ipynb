{
  "nbformat": 4,
  "nbformat_minor": 0,
  "metadata": {
    "colab": {
      "provenance": [],
      "gpuType": "T4",
      "authorship_tag": "ABX9TyPl8sFcuWGpmkNyvgmU6tgw",
      "include_colab_link": true
    },
    "kernelspec": {
      "name": "python3",
      "display_name": "Python 3"
    },
    "language_info": {
      "name": "python"
    },
    "accelerator": "GPU"
  },
  "cells": [
    {
      "cell_type": "markdown",
      "metadata": {
        "id": "view-in-github",
        "colab_type": "text"
      },
      "source": [
        "<a href=\"https://colab.research.google.com/github/annchirackal/Tensorflow-Developer-Certification/blob/TF_Transfer_Learning/12_Transfer_Learning.ipynb\" target=\"_parent\"><img src=\"https://colab.research.google.com/assets/colab-badge.svg\" alt=\"Open In Colab\"/></a>"
      ]
    },
    {
      "cell_type": "markdown",
      "source": [
        "#####What is transfer learning?<br>\n",
        "\n",
        "we can leverage an existing nueral network architecture proven to work on similar problems which is already learned patterns from dataset  similar  to our own.\n",
        "\n"
      ],
      "metadata": {
        "id": "DiCd_cqyfLEL"
      }
    },
    {
      "cell_type": "markdown",
      "source": [
        "Download the data:\n",
        "we are going to use only 10 percent data, this would help us to understand the powe of transfer learning."
      ],
      "metadata": {
        "id": "vBYco3CrisZy"
      }
    },
    {
      "cell_type": "code",
      "source": [
        "import tensorflow as tf\n",
        "import zipfile\n",
        "import os\n",
        "from tensorflow.keras.preprocessing.image import ImageDataGenerator"
      ],
      "metadata": {
        "id": "EJBuG3MjjlXQ"
      },
      "execution_count": 12,
      "outputs": []
    },
    {
      "cell_type": "code",
      "source": [
        "## Global variables\n",
        "IMAGE_SHAPE=(224,224)\n",
        "BATCH_SIZE=32\n",
        "EPOCHS=5"
      ],
      "metadata": {
        "id": "fkd5OTsVmpuf"
      },
      "execution_count": 14,
      "outputs": []
    },
    {
      "cell_type": "code",
      "execution_count": 1,
      "metadata": {
        "id": "-MEP_EHuFzu4"
      },
      "outputs": [],
      "source": [
        " !wget -q https://storage.googleapis.com/ztm_tf_course/food_vision/10_food_classes_10_percent.zip"
      ]
    },
    {
      "cell_type": "code",
      "source": [
        "# unzip the loaded file\n",
        "zip_ref=zipfile.ZipFile(\"/content/10_food_classes_10_percent.zip\")\n",
        "zip_ref.extractall()\n",
        "zip_ref.close()"
      ],
      "metadata": {
        "id": "tcZyd4uljVj9"
      },
      "execution_count": 5,
      "outputs": []
    },
    {
      "cell_type": "code",
      "source": [
        "  #lets inspect the directory\n",
        "for dirpath,dirnames,filenames in os.walk(\"10_food_classes_10_percent\"):\n",
        "\n",
        "    print(f\"{len(filenames)} files and  {len(dirnames)} in directory {dirpath}\")\n"
      ],
      "metadata": {
        "id": "-4beZA9Mj13X",
        "outputId": "314b8605-e44c-49cc-f1e4-15bdd1a780a7",
        "colab": {
          "base_uri": "https://localhost:8080/"
        }
      },
      "execution_count": 10,
      "outputs": [
        {
          "output_type": "stream",
          "name": "stdout",
          "text": [
            "0 files and  2 in directory 10_food_classes_10_percent\n",
            "0 files and  10 in directory 10_food_classes_10_percent/train\n",
            "75 files and  0 in directory 10_food_classes_10_percent/train/chicken_curry\n",
            "75 files and  0 in directory 10_food_classes_10_percent/train/hamburger\n",
            "75 files and  0 in directory 10_food_classes_10_percent/train/grilled_salmon\n",
            "75 files and  0 in directory 10_food_classes_10_percent/train/fried_rice\n",
            "75 files and  0 in directory 10_food_classes_10_percent/train/pizza\n",
            "75 files and  0 in directory 10_food_classes_10_percent/train/ramen\n",
            "75 files and  0 in directory 10_food_classes_10_percent/train/sushi\n",
            "75 files and  0 in directory 10_food_classes_10_percent/train/ice_cream\n",
            "75 files and  0 in directory 10_food_classes_10_percent/train/steak\n",
            "75 files and  0 in directory 10_food_classes_10_percent/train/chicken_wings\n",
            "0 files and  10 in directory 10_food_classes_10_percent/test\n",
            "250 files and  0 in directory 10_food_classes_10_percent/test/chicken_curry\n",
            "250 files and  0 in directory 10_food_classes_10_percent/test/hamburger\n",
            "250 files and  0 in directory 10_food_classes_10_percent/test/grilled_salmon\n",
            "250 files and  0 in directory 10_food_classes_10_percent/test/fried_rice\n",
            "250 files and  0 in directory 10_food_classes_10_percent/test/pizza\n",
            "250 files and  0 in directory 10_food_classes_10_percent/test/ramen\n",
            "250 files and  0 in directory 10_food_classes_10_percent/test/sushi\n",
            "250 files and  0 in directory 10_food_classes_10_percent/test/ice_cream\n",
            "250 files and  0 in directory 10_food_classes_10_percent/test/steak\n",
            "250 files and  0 in directory 10_food_classes_10_percent/test/chicken_wings\n"
          ]
        }
      ]
    },
    {
      "cell_type": "markdown",
      "source": [
        "We have 75 images of each class for traning and 250 from each class for validation"
      ],
      "metadata": {
        "id": "xDYxfpBUlovW"
      }
    },
    {
      "cell_type": "code",
      "source": [
        " #### set the path variables\n",
        "\n",
        "train_dir=\"/content/10_food_classes_10_percent/train\"\n",
        "test_dir=\"/content/10_food_classes_10_percent/test\"\n",
        "\n",
        "train_data_gen=ImageDataGenerator(rescale=1./255,)\n",
        "test_data_gen=ImageDataGenerator(rescale=1./255,)\n",
        "print(\"Traning Images:\")\n",
        "train_data=train_data_gen.flow_from_directory(train_dir,\n",
        "                                              target_size=IMAGE_SHAPE,\n",
        "                                              batch_size=BATCH_SIZE,\n",
        "                                              class_mode=\"categorical\")\n",
        "print(\"Testing Images:\")\n",
        "train_data=train_data_gen.flow_from_directory(test_dir,\n",
        "                                              target_size=IMAGE_SHAPE,\n",
        "                                              batch_size=BATCH_SIZE,\n",
        "                                              class_mode=\"categorical\")\n"
      ],
      "metadata": {
        "id": "8MSbJFBilnli",
        "outputId": "94b3ae05-a9db-4b52-931a-7600468937eb",
        "colab": {
          "base_uri": "https://localhost:8080/"
        }
      },
      "execution_count": 17,
      "outputs": [
        {
          "output_type": "stream",
          "name": "stdout",
          "text": [
            "Traning Images:\n",
            "Found 750 images belonging to 10 classes.\n",
            "Testing Images:\n",
            "Found 2500 images belonging to 10 classes.\n"
          ]
        }
      ]
    },
    {
      "cell_type": "code",
      "source": [],
      "metadata": {
        "id": "Ck2geNTUmP7e"
      },
      "execution_count": null,
      "outputs": []
    }
  ]
}