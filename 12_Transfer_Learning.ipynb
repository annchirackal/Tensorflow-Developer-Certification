{
  "nbformat": 4,
  "nbformat_minor": 0,
  "metadata": {
    "colab": {
      "provenance": [],
      "gpuType": "T4",
      "authorship_tag": "ABX9TyOkVQfhvRPhQR3ewsGnm37I",
      "include_colab_link": true
    },
    "kernelspec": {
      "name": "python3",
      "display_name": "Python 3"
    },
    "language_info": {
      "name": "python"
    },
    "accelerator": "GPU"
  },
  "cells": [
    {
      "cell_type": "markdown",
      "metadata": {
        "id": "view-in-github",
        "colab_type": "text"
      },
      "source": [
        "<a href=\"https://colab.research.google.com/github/annchirackal/Tensorflow-Developer-Certification/blob/TF_Transfer_Learning/12_Transfer_Learning.ipynb\" target=\"_parent\"><img src=\"https://colab.research.google.com/assets/colab-badge.svg\" alt=\"Open In Colab\"/></a>"
      ]
    },
    {
      "cell_type": "markdown",
      "source": [
        "#####What is transfer learning?<br>\n",
        "\n",
        "we can leverage an existing nueral network architecture proven to work on similar problems which is already learned patterns from dataset  similar  to our own.\n",
        "\n"
      ],
      "metadata": {
        "id": "DiCd_cqyfLEL"
      }
    },
    {
      "cell_type": "markdown",
      "source": [
        "Download the data:\n",
        "we are going to use only 10 percent data, this would help us to understand the powe of transfer learning."
      ],
      "metadata": {
        "id": "vBYco3CrisZy"
      }
    },
    {
      "cell_type": "code",
      "source": [
        "import tensorflow as tf\n",
        "import zipfile\n",
        "import os\n",
        "from tensorflow.keras.preprocessing.image import ImageDataGenerator\n",
        "\n",
        "import matplotlib.pyplot as plt\n",
        "import datetime\n",
        "\n",
        "import tensorflow_hub as hub\n",
        "from tensorflow.keras import layers"
      ],
      "metadata": {
        "id": "EJBuG3MjjlXQ"
      },
      "execution_count": 28,
      "outputs": []
    },
    {
      "cell_type": "code",
      "source": [
        "## Global variables\n",
        "IMAGE_SHAPE=(224,224)\n",
        "BATCH_SIZE=32\n",
        "EPOCHS=5"
      ],
      "metadata": {
        "id": "fkd5OTsVmpuf"
      },
      "execution_count": 12,
      "outputs": []
    },
    {
      "cell_type": "code",
      "execution_count": 13,
      "metadata": {
        "id": "-MEP_EHuFzu4"
      },
      "outputs": [],
      "source": [
        " !wget -q https://storage.googleapis.com/ztm_tf_course/food_vision/10_food_classes_10_percent.zip"
      ]
    },
    {
      "cell_type": "code",
      "source": [
        "# unzip the loaded file\n",
        "zip_ref=zipfile.ZipFile(\"/content/10_food_classes_10_percent.zip\")\n",
        "zip_ref.extractall()\n",
        "zip_ref.close()"
      ],
      "metadata": {
        "id": "tcZyd4uljVj9"
      },
      "execution_count": 14,
      "outputs": []
    },
    {
      "cell_type": "code",
      "source": [
        "  #lets inspect the directory\n",
        "for dirpath,dirnames,filenames in os.walk(\"10_food_classes_10_percent\"):\n",
        "\n",
        "    print(f\"{len(filenames)} files and  {len(dirnames)} in directory {dirpath}\")\n"
      ],
      "metadata": {
        "id": "-4beZA9Mj13X",
        "outputId": "dded9c55-d4a8-41e1-bc2a-f51af31edd46",
        "colab": {
          "base_uri": "https://localhost:8080/"
        }
      },
      "execution_count": 15,
      "outputs": [
        {
          "output_type": "stream",
          "name": "stdout",
          "text": [
            "0 files and  2 in directory 10_food_classes_10_percent\n",
            "0 files and  10 in directory 10_food_classes_10_percent/test\n",
            "250 files and  0 in directory 10_food_classes_10_percent/test/grilled_salmon\n",
            "250 files and  0 in directory 10_food_classes_10_percent/test/chicken_curry\n",
            "250 files and  0 in directory 10_food_classes_10_percent/test/pizza\n",
            "250 files and  0 in directory 10_food_classes_10_percent/test/ramen\n",
            "250 files and  0 in directory 10_food_classes_10_percent/test/sushi\n",
            "250 files and  0 in directory 10_food_classes_10_percent/test/chicken_wings\n",
            "250 files and  0 in directory 10_food_classes_10_percent/test/fried_rice\n",
            "250 files and  0 in directory 10_food_classes_10_percent/test/hamburger\n",
            "250 files and  0 in directory 10_food_classes_10_percent/test/ice_cream\n",
            "250 files and  0 in directory 10_food_classes_10_percent/test/steak\n",
            "0 files and  10 in directory 10_food_classes_10_percent/train\n",
            "75 files and  0 in directory 10_food_classes_10_percent/train/grilled_salmon\n",
            "75 files and  0 in directory 10_food_classes_10_percent/train/chicken_curry\n",
            "75 files and  0 in directory 10_food_classes_10_percent/train/pizza\n",
            "75 files and  0 in directory 10_food_classes_10_percent/train/ramen\n",
            "75 files and  0 in directory 10_food_classes_10_percent/train/sushi\n",
            "75 files and  0 in directory 10_food_classes_10_percent/train/chicken_wings\n",
            "75 files and  0 in directory 10_food_classes_10_percent/train/fried_rice\n",
            "75 files and  0 in directory 10_food_classes_10_percent/train/hamburger\n",
            "75 files and  0 in directory 10_food_classes_10_percent/train/ice_cream\n",
            "75 files and  0 in directory 10_food_classes_10_percent/train/steak\n"
          ]
        }
      ]
    },
    {
      "cell_type": "markdown",
      "source": [
        "We have 75 images of each class for traning and 250 from each class for validation"
      ],
      "metadata": {
        "id": "xDYxfpBUlovW"
      }
    },
    {
      "cell_type": "code",
      "source": [
        " #### set the path variables\n",
        "\n",
        "train_dir=\"/content/10_food_classes_10_percent/train\"\n",
        "test_dir=\"/content/10_food_classes_10_percent/test\"\n",
        "\n",
        "train_data_gen=ImageDataGenerator(rescale=1./255,)\n",
        "test_data_gen=ImageDataGenerator(rescale=1./255,)\n",
        "print(\"Traning Images:\")\n",
        "train_data=train_data_gen.flow_from_directory(train_dir,\n",
        "                                              target_size=IMAGE_SHAPE,\n",
        "                                              batch_size=BATCH_SIZE,\n",
        "                                              class_mode=\"categorical\")\n",
        "print(\"Testing Images:\")\n",
        "test_data=train_data_gen.flow_from_directory(test_dir,\n",
        "                                              target_size=IMAGE_SHAPE,\n",
        "                                              batch_size=BATCH_SIZE,\n",
        "                                              class_mode=\"categorical\")\n"
      ],
      "metadata": {
        "id": "8MSbJFBilnli",
        "outputId": "dc200f5f-3f19-481f-87b1-c3d24846f24a",
        "colab": {
          "base_uri": "https://localhost:8080/"
        }
      },
      "execution_count": 16,
      "outputs": [
        {
          "output_type": "stream",
          "name": "stdout",
          "text": [
            "Traning Images:\n",
            "Found 750 images belonging to 10 classes.\n",
            "Testing Images:\n",
            "Found 2500 images belonging to 10 classes.\n"
          ]
        }
      ]
    },
    {
      "cell_type": "markdown",
      "source": [
        "Callbacks are extra functionality you can add to your model to be performed during or after training.Some of the most popular call backs are\n",
        "- Model check point with the ModelCheckpoint callbacks.\n",
        "- Tracking experiment with tensor board callbacks.\n",
        "- Stopping a model from traning with EarlyStopping callbacks."
      ],
      "metadata": {
        "id": "lgLZmmCEGzF4"
      }
    },
    {
      "cell_type": "code",
      "source": [
        "#create a tensorboard callbacks\n",
        "\n",
        "def create_tensorboard_callback(dirname,experiment_name):\n",
        "  log_dir=dirname+\"/\"+experiment_name+datetime.datetime.now().strftime(\"%Y%m%d-%H%M%S\")\n",
        "  tensorboard_callback=tf.keras.callbacks.TensorBoard(log_dir=log_dir,)\n",
        "  print(f\"Saving TensorBorad log files to {log_dir} \")\n",
        "  return tensorboard_callback\n"
      ],
      "metadata": {
        "id": "Ck2geNTUmP7e"
      },
      "execution_count": 24,
      "outputs": []
    },
    {
      "cell_type": "markdown",
      "source": [
        "Creating Models using Tensorflow hub<br>\n",
        "\n",
        "In previous notebooks we have created custom models from scratch. Here we are creating a model by using layers from pretrained models availble in tensor hub.\n"
      ],
      "metadata": {
        "id": "HfsRi1knJ4Qt"
      }
    },
    {
      "cell_type": "code",
      "source": [
        "# Resnet 50 V2 feature vector\n",
        "resnet_url = \"https://tfhub.dev/google/imagenet/resnet_v2_50/feature_vector/4\"\n",
        "\n",
        "# Original: EfficientNetB0 feature vector (version 1)\n",
        "efficientnet_url = \"https://tfhub.dev/tensorflow/efficientnet/b0/feature-vector/1\"\n",
        "\n",
        "# # New: EfficientNetB0 feature vector (version 2)\n",
        "# efficientnet_url = \"https://tfhub.dev/google/imagenet/efficientnet_v2_imagenet1k_b0/feature_vector/2\""
      ],
      "metadata": {
        "id": "rpdJZxLSKpdj"
      },
      "execution_count": 18,
      "outputs": []
    },
    {
      "cell_type": "code",
      "source": [
        "def create_model(model_url, num_classes=10):\n",
        "  \"\"\"Takes a TensorFlow Hub URL and creates a Keras Sequential model with it.\n",
        "\n",
        "  Args:\n",
        "    model_url (str): A TensorFlow Hub feature extraction URL.\n",
        "    num_classes (int): Number of output neurons in output layer,\n",
        "      should be equal to number of target classes, default 10.\n",
        "\n",
        "  Returns:\n",
        "    An uncompiled Keras Sequential model with model_url as feature\n",
        "    extractor layer and Dense output layer with num_classes outputs.\n",
        "  \"\"\"\n",
        "  # Download the pretrained model and save it as a Keras layer\n",
        "  feature_extractor_layer = hub.KerasLayer(model_url,\n",
        "                                           trainable=False, # freeze the underlying patterns\n",
        "                                           name='feature_extraction_layer',\n",
        "                                           input_shape=IMAGE_SHAPE+(3,)) # define the input image shape\n",
        "\n",
        "  # Create our own model\n",
        "  model = tf.keras.Sequential([\n",
        "    feature_extractor_layer, # use the feature extraction layer as the base\n",
        "    layers.Dense(num_classes, activation='softmax', name='output_layer') # create our own output layer\n",
        "  ])\n",
        "\n",
        "  return model\n",
        ""
      ],
      "metadata": {
        "id": "ZKk3iXpROdab"
      },
      "execution_count": 19,
      "outputs": []
    },
    {
      "cell_type": "code",
      "source": [
        "# Create model\n",
        "resnet_model = create_model(resnet_url, num_classes=train_data.num_classes)\n",
        "\n",
        "# Compile\n",
        "resnet_model.compile(loss='categorical_crossentropy',\n",
        "                     optimizer=tf.keras.optimizers.Adam(),\n",
        "                     metrics=['accuracy'])\n"
      ],
      "metadata": {
        "id": "lLC36Jf4Oo_T"
      },
      "execution_count": 20,
      "outputs": []
    },
    {
      "cell_type": "code",
      "source": [
        "# Fit the model\n",
        "resnet_history = resnet_model.fit(train_data,\n",
        "                                  epochs=5,\n",
        "                                  steps_per_epoch=len(train_data),\n",
        "                                  validation_data=test_data,\n",
        "                                  validation_steps=len(test_data),\n",
        "                                  # Add TensorBoard callback to model (callbacks parameter takes a list)\n",
        "                                  callbacks=[create_tensorboard_callback(dirname=\"tensorflow_hub\", # save experiment logs here\n",
        "                                                                         experiment_name=\"resnet50V2\")]) # name of log"
      ],
      "metadata": {
        "id": "htYhKYaxOzrP",
        "outputId": "d73008d4-91a8-42c3-b09b-940413638618",
        "colab": {
          "base_uri": "https://localhost:8080/"
        }
      },
      "execution_count": 26,
      "outputs": [
        {
          "output_type": "stream",
          "name": "stdout",
          "text": [
            "Saving TensorBorad log files to tensorflow_hub/resnet50V220240123-165204 \n",
            "Epoch 1/5\n",
            "24/24 [==============================] - 23s 611ms/step - loss: 1.9632 - accuracy: 0.3720 - val_loss: 1.2022 - val_accuracy: 0.6120\n",
            "Epoch 2/5\n",
            "24/24 [==============================] - 14s 577ms/step - loss: 0.8875 - accuracy: 0.7507 - val_loss: 0.8367 - val_accuracy: 0.7428\n",
            "Epoch 3/5\n",
            "24/24 [==============================] - 13s 548ms/step - loss: 0.6019 - accuracy: 0.8347 - val_loss: 0.7532 - val_accuracy: 0.7548\n",
            "Epoch 4/5\n",
            "24/24 [==============================] - 12s 522ms/step - loss: 0.4705 - accuracy: 0.8667 - val_loss: 0.7046 - val_accuracy: 0.7744\n",
            "Epoch 5/5\n",
            "24/24 [==============================] - 11s 477ms/step - loss: 0.3697 - accuracy: 0.9133 - val_loss: 0.6784 - val_accuracy: 0.7796\n"
          ]
        }
      ]
    },
    {
      "cell_type": "markdown",
      "source": [
        "Eventhouogh we used olnly 10% of the training data, we can see that the model performence increased compared to last one."
      ],
      "metadata": {
        "id": "c-IPjEmDPMJL"
      }
    },
    {
      "cell_type": "code",
      "source": [
        "# Plot the validation and training data separately\n",
        "def plot_loss_curves(history):\n",
        "  \"\"\"\n",
        "  Returns separate loss curves for training and validation metrics.\n",
        "  \"\"\"\n",
        "  loss = history.history['loss']\n",
        "  val_loss = history.history['val_loss']\n",
        "\n",
        "  accuracy = history.history['accuracy']\n",
        "  val_accuracy = history.history['val_accuracy']\n",
        "\n",
        "  epochs = range(len(history.history['loss']))\n",
        "\n",
        "  # Plot loss\n",
        "  plt.plot(epochs, loss, label='training_loss')\n",
        "  plt.plot(epochs, val_loss, label='val_loss')\n",
        "  plt.title('Loss')\n",
        "  plt.xlabel('Epochs')\n",
        "  plt.legend()\n",
        "\n",
        "  # Plot accuracy\n",
        "  plt.figure()\n",
        "  plt.plot(epochs, accuracy, label='training_accuracy')\n",
        "  plt.plot(epochs, val_accuracy, label='val_accuracy')\n",
        "  plt.title('Accuracy')\n",
        "  plt.xlabel('Epochs')\n",
        "  plt.legend();"
      ],
      "metadata": {
        "id": "YPPy5UAOPgBx"
      },
      "execution_count": 29,
      "outputs": []
    },
    {
      "cell_type": "code",
      "source": [
        "plot_loss_curves(resnet_history)"
      ],
      "metadata": {
        "id": "6QAuZ1YhPwCZ",
        "outputId": "7d1e90d5-a062-43d1-bab5-2cf8f63a0e82",
        "colab": {
          "base_uri": "https://localhost:8080/",
          "height": 927
        }
      },
      "execution_count": 30,
      "outputs": [
        {
          "output_type": "display_data",
          "data": {
            "text/plain": [
              "<Figure size 640x480 with 1 Axes>"
            ],
            "image/png": "[encoded data removed]"
          },
          "metadata": {}
        },
        {
          "output_type": "display_data",
          "data": {
            "text/plain": [
              "<Figure size 640x480 with 1 Axes>"
            ],
            "image/png": "[encoded data removed]"
          },
          "metadata": {}
        }
      ]
    },
    {
      "cell_type": "code",
      "source": [
        "# Create model\n",
        "efficientnet_model = create_model(model_url=efficientnet_url, # use EfficientNetB0 TensorFlow Hub URL\n",
        "                                  num_classes=train_data.num_classes)\n",
        "\n",
        "# Compile EfficientNet model\n",
        "efficientnet_model.compile(loss='categorical_crossentropy',\n",
        "                           optimizer=tf.keras.optimizers.Adam(),\n",
        "                           metrics=['accuracy'])\n",
        "\n",
        "# Fit EfficientNet model\n",
        "efficientnet_history = efficientnet_model.fit(train_data, # only use 10% of training data\n",
        "                                              epochs=5, # train for 5 epochs\n",
        "                                              steps_per_epoch=len(train_data),\n",
        "                                              validation_data=test_data,\n",
        "                                              validation_steps=len(test_data),\n",
        "                                              callbacks=create_tensorboard_callback(dirname=\"tensorflow_hub\",\n",
        "                                                                                     # Track logs under different experiment name\n",
        "                                                                                     experiment_name=\"efficientnetB0\"))"
      ],
      "metadata": {
        "id": "WdFT6lihP55X",
        "outputId": "e93306b8-fb0d-4d6e-8ec9-ff7da5df73f5",
        "colab": {
          "base_uri": "https://localhost:8080/"
        }
      },
      "execution_count": 36,
      "outputs": [
        {
          "output_type": "stream",
          "name": "stdout",
          "text": [
            "Saving TensorBorad log files to tensorflow_hub/efficientnetB020240123-165710 \n",
            "Epoch 1/5\n",
            "24/24 [==============================] - 26s 602ms/step - loss: 1.8425 - accuracy: 0.4587 - val_loss: 1.2642 - val_accuracy: 0.7580\n",
            "Epoch 2/5\n",
            "24/24 [==============================] - 10s 437ms/step - loss: 1.0448 - accuracy: 0.7880 - val_loss: 0.8577 - val_accuracy: 0.8240\n",
            "Epoch 3/5\n",
            "24/24 [==============================] - 10s 412ms/step - loss: 0.7553 - accuracy: 0.8293 - val_loss: 0.6873 - val_accuracy: 0.8448\n",
            "Epoch 4/5\n",
            "24/24 [==============================] - 10s 406ms/step - loss: 0.6038 - accuracy: 0.8640 - val_loss: 0.6059 - val_accuracy: 0.8572\n",
            "Epoch 5/5\n",
            "24/24 [==============================] - 11s 477ms/step - loss: 0.5138 - accuracy: 0.8907 - val_loss: 0.5525 - val_accuracy: 0.8608\n"
          ]
        }
      ]
    }
  ]
}