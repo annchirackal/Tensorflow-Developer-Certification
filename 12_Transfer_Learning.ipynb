{
  "nbformat": 4,
  "nbformat_minor": 0,
  "metadata": {
    "colab": {
      "provenance": [],
      "gpuType": "T4",
      "authorship_tag": "ABX9TyN7hvgzLhO0maMQuqjfQWPG",
      "include_colab_link": true
    },
    "kernelspec": {
      "name": "python3",
      "display_name": "Python 3"
    },
    "language_info": {
      "name": "python"
    },
    "accelerator": "GPU"
  },
  "cells": [
    {
      "cell_type": "markdown",
      "metadata": {
        "id": "view-in-github",
        "colab_type": "text"
      },
      "source": [
        "<a href=\"https://colab.research.google.com/github/annchirackal/Tensorflow-Developer-Certification/blob/TF_Transfer_Learning/12_Transfer_Learning.ipynb\" target=\"_parent\"><img src=\"https://colab.research.google.com/assets/colab-badge.svg\" alt=\"Open In Colab\"/></a>"
      ]
    },
    {
      "cell_type": "markdown",
      "source": [
        "#####What is transfer learning?<br>\n",
        "\n",
        "we can leverage an existing nueral network architecture proven to work on similar problems which is already learned patterns from dataset  similar  to our own.\n",
        "\n"
      ],
      "metadata": {
        "id": "DiCd_cqyfLEL"
      }
    },
    {
      "cell_type": "markdown",
      "source": [
        "Download the data:\n",
        "we are going to use only 10 percent data, this would help us to understand the powe of transfer learning."
      ],
      "metadata": {
        "id": "vBYco3CrisZy"
      }
    },
    {
      "cell_type": "code",
      "source": [
        "import tensorflow as tf\n",
        "import zipfile\n",
        "import os\n",
        "from tensorflow.keras.preprocessing.image import ImageDataGenerator\n",
        "\n",
        "import matplotlib.pyplot as plt\n",
        "import datetime\n",
        "\n",
        "import tensorflow_hub as hub\n",
        "from tensorflow.keras import layers"
      ],
      "metadata": {
        "id": "EJBuG3MjjlXQ"
      },
      "execution_count": 2,
      "outputs": []
    },
    {
      "cell_type": "code",
      "source": [
        "## Global variables\n",
        "IMAGE_SHAPE=(224,224)\n",
        "BATCH_SIZE=32\n",
        "EPOCHS=5"
      ],
      "metadata": {
        "id": "fkd5OTsVmpuf"
      },
      "execution_count": 3,
      "outputs": []
    },
    {
      "cell_type": "code",
      "execution_count": 4,
      "metadata": {
        "id": "-MEP_EHuFzu4"
      },
      "outputs": [],
      "source": [
        " !wget -q https://storage.googleapis.com/ztm_tf_course/food_vision/10_food_classes_10_percent.zip"
      ]
    },
    {
      "cell_type": "code",
      "source": [
        "# unzip the loaded file\n",
        "zip_ref=zipfile.ZipFile(\"/content/10_food_classes_10_percent.zip\")\n",
        "zip_ref.extractall()\n",
        "zip_ref.close()"
      ],
      "metadata": {
        "id": "tcZyd4uljVj9"
      },
      "execution_count": 5,
      "outputs": []
    },
    {
      "cell_type": "code",
      "source": [
        "  #lets inspect the directory\n",
        "for dirpath,dirnames,filenames in os.walk(\"10_food_classes_10_percent\"):\n",
        "\n",
        "    print(f\"{len(filenames)} files and  {len(dirnames)} in directory {dirpath}\")\n"
      ],
      "metadata": {
        "id": "-4beZA9Mj13X",
        "outputId": "12fcf052-cfb5-47f7-ea66-7cb8190ada8f",
        "colab": {
          "base_uri": "https://localhost:8080/"
        }
      },
      "execution_count": 6,
      "outputs": [
        {
          "output_type": "stream",
          "name": "stdout",
          "text": [
            "0 files and  2 in directory 10_food_classes_10_percent\n",
            "0 files and  10 in directory 10_food_classes_10_percent/train\n",
            "75 files and  0 in directory 10_food_classes_10_percent/train/sushi\n",
            "75 files and  0 in directory 10_food_classes_10_percent/train/chicken_curry\n",
            "75 files and  0 in directory 10_food_classes_10_percent/train/grilled_salmon\n",
            "75 files and  0 in directory 10_food_classes_10_percent/train/steak\n",
            "75 files and  0 in directory 10_food_classes_10_percent/train/pizza\n",
            "75 files and  0 in directory 10_food_classes_10_percent/train/chicken_wings\n",
            "75 files and  0 in directory 10_food_classes_10_percent/train/hamburger\n",
            "75 files and  0 in directory 10_food_classes_10_percent/train/fried_rice\n",
            "75 files and  0 in directory 10_food_classes_10_percent/train/ice_cream\n",
            "75 files and  0 in directory 10_food_classes_10_percent/train/ramen\n",
            "0 files and  10 in directory 10_food_classes_10_percent/test\n",
            "250 files and  0 in directory 10_food_classes_10_percent/test/sushi\n",
            "250 files and  0 in directory 10_food_classes_10_percent/test/chicken_curry\n",
            "250 files and  0 in directory 10_food_classes_10_percent/test/grilled_salmon\n",
            "250 files and  0 in directory 10_food_classes_10_percent/test/steak\n",
            "250 files and  0 in directory 10_food_classes_10_percent/test/pizza\n",
            "250 files and  0 in directory 10_food_classes_10_percent/test/chicken_wings\n",
            "250 files and  0 in directory 10_food_classes_10_percent/test/hamburger\n",
            "250 files and  0 in directory 10_food_classes_10_percent/test/fried_rice\n",
            "250 files and  0 in directory 10_food_classes_10_percent/test/ice_cream\n",
            "250 files and  0 in directory 10_food_classes_10_percent/test/ramen\n"
          ]
        }
      ]
    },
    {
      "cell_type": "markdown",
      "source": [
        "We have 75 images of each class for traning and 250 from each class for validation"
      ],
      "metadata": {
        "id": "xDYxfpBUlovW"
      }
    },
    {
      "cell_type": "code",
      "source": [
        " #### set the path variables\n",
        "\n",
        "train_dir=\"/content/10_food_classes_10_percent/train\"\n",
        "test_dir=\"/content/10_food_classes_10_percent/test\"\n",
        "\n",
        "train_data_gen=ImageDataGenerator(rescale=1./255,)\n",
        "test_data_gen=ImageDataGenerator(rescale=1./255,)\n",
        "print(\"Traning Images:\")\n",
        "train_data=train_data_gen.flow_from_directory(train_dir,\n",
        "                                              target_size=IMAGE_SHAPE,\n",
        "                                              batch_size=BATCH_SIZE,\n",
        "                                              class_mode=\"categorical\")\n",
        "print(\"Testing Images:\")\n",
        "test_data=train_data_gen.flow_from_directory(test_dir,\n",
        "                                              target_size=IMAGE_SHAPE,\n",
        "                                              batch_size=BATCH_SIZE,\n",
        "                                              class_mode=\"categorical\")\n"
      ],
      "metadata": {
        "id": "8MSbJFBilnli",
        "outputId": "610d9d9f-36a2-4428-8b4e-eb9aa6497157",
        "colab": {
          "base_uri": "https://localhost:8080/"
        }
      },
      "execution_count": 7,
      "outputs": [
        {
          "output_type": "stream",
          "name": "stdout",
          "text": [
            "Traning Images:\n",
            "Found 750 images belonging to 10 classes.\n",
            "Testing Images:\n",
            "Found 2500 images belonging to 10 classes.\n"
          ]
        }
      ]
    },
    {
      "cell_type": "markdown",
      "source": [
        "Callbacks are extra functionality you can add to your model to be performed during or after training.Some of the most popular call backs are\n",
        "- Model check point with the ModelCheckpoint callbacks.\n",
        "- Tracking experiment with tensor board callbacks.\n",
        "- Stopping a model from traning with EarlyStopping callbacks."
      ],
      "metadata": {
        "id": "lgLZmmCEGzF4"
      }
    },
    {
      "cell_type": "code",
      "source": [
        "#create a tensorboard callbacks\n",
        "\n",
        "def create_tensorboard_callback(dirname,experiment_name):\n",
        "  log_dir=dirname+\"/\"+experiment_name+datetime.datetime.now().strftime(\"%Y%m%d-%H%M%S\")\n",
        "  tensorboard_callback=tf.keras.callbacks.TensorBoard(log_dir=log_dir,)\n",
        "  print(f\"Saving TensorBorad log files to {log_dir} \")\n",
        "  return tensorboard_callback\n"
      ],
      "metadata": {
        "id": "Ck2geNTUmP7e"
      },
      "execution_count": 8,
      "outputs": []
    },
    {
      "cell_type": "markdown",
      "source": [
        "Creating Models using Tensorflow hub<br>\n",
        "\n",
        "In previous notebooks we have created custom models from scratch. Here we are creating a model by using layers from pretrained models availble in tensor hub.\n"
      ],
      "metadata": {
        "id": "HfsRi1knJ4Qt"
      }
    },
    {
      "cell_type": "code",
      "source": [
        "# Resnet 50 V2 feature vector\n",
        "resnet_url = \"https://tfhub.dev/google/imagenet/resnet_v2_50/feature_vector/4\"\n",
        "\n",
        "# Original: EfficientNetB0 feature vector (version 1)\n",
        "efficientnet_url = \"https://tfhub.dev/tensorflow/efficientnet/b0/feature-vector/1\"\n",
        "\n",
        "# # New: EfficientNetB0 feature vector (version 2)\n",
        "# efficientnet_url = \"https://tfhub.dev/google/imagenet/efficientnet_v2_imagenet1k_b0/feature_vector/2\""
      ],
      "metadata": {
        "id": "rpdJZxLSKpdj"
      },
      "execution_count": 9,
      "outputs": []
    },
    {
      "cell_type": "code",
      "source": [
        "def create_model(model_url, num_classes=10):\n",
        "  \"\"\"Takes a TensorFlow Hub URL and creates a Keras Sequential model with it.\n",
        "\n",
        "  Args:\n",
        "    model_url (str): A TensorFlow Hub feature extraction URL.\n",
        "    num_classes (int): Number of output neurons in output layer,\n",
        "      should be equal to number of target classes, default 10.\n",
        "\n",
        "  Returns:\n",
        "    An uncompiled Keras Sequential model with model_url as feature\n",
        "    extractor layer and Dense output layer with num_classes outputs.\n",
        "  \"\"\"\n",
        "  # Download the pretrained model and save it as a Keras layer\n",
        "  feature_extractor_layer = hub.KerasLayer(model_url,\n",
        "                                           trainable=False, # freeze the underlying patterns\n",
        "                                           name='feature_extraction_layer',\n",
        "                                           input_shape=IMAGE_SHAPE+(3,)) # define the input image shape\n",
        "\n",
        "  # Create our own model\n",
        "  model = tf.keras.Sequential([\n",
        "    feature_extractor_layer, # use the feature extraction layer as the base\n",
        "    layers.Dense(num_classes, activation='softmax', name='output_layer') # create our own output layer\n",
        "  ])\n",
        "\n",
        "  return model\n"
      ],
      "metadata": {
        "id": "ZKk3iXpROdab"
      },
      "execution_count": 10,
      "outputs": []
    },
    {
      "cell_type": "code",
      "source": [
        "# Create model\n",
        "resnet_model = create_model(resnet_url, num_classes=train_data.num_classes)\n",
        "\n",
        "# Compile\n",
        "resnet_model.compile(loss='categorical_crossentropy',\n",
        "                     optimizer=tf.keras.optimizers.Adam(),\n",
        "                     metrics=['accuracy'])\n"
      ],
      "metadata": {
        "id": "lLC36Jf4Oo_T"
      },
      "execution_count": 11,
      "outputs": []
    },
    {
      "cell_type": "code",
      "source": [
        "# Fit the model\n",
        "resnet_history = resnet_model.fit(train_data,\n",
        "                                  epochs=5,\n",
        "                                  steps_per_epoch=len(train_data),\n",
        "                                  validation_data=test_data,\n",
        "                                  validation_steps=len(test_data),\n",
        "                                  # Add TensorBoard callback to model (callbacks parameter takes a list)\n",
        "                                  callbacks=[create_tensorboard_callback(dirname=\"tensorflow_hub\", # save experiment logs here\n",
        "                                                                         experiment_name=\"resnet50V2\")]) # name of log"
      ],
      "metadata": {
        "id": "htYhKYaxOzrP",
        "outputId": "bd10f7b1-6cfe-4518-a6d2-cb9e5ca7e4a5",
        "colab": {
          "base_uri": "https://localhost:8080/"
        }
      },
      "execution_count": 12,
      "outputs": [
        {
          "output_type": "stream",
          "name": "stdout",
          "text": [
            "Saving TensorBorad log files to tensorflow_hub/resnet50V220240125-174317 \n",
            "Epoch 1/5\n",
            "24/24 [==============================] - 23s 649ms/step - loss: 1.9211 - accuracy: 0.3560 - val_loss: 1.2114 - val_accuracy: 0.6120\n",
            "Epoch 2/5\n",
            "24/24 [==============================] - 12s 498ms/step - loss: 0.9058 - accuracy: 0.7227 - val_loss: 0.8456 - val_accuracy: 0.7344\n",
            "Epoch 3/5\n",
            "24/24 [==============================] - 11s 477ms/step - loss: 0.6121 - accuracy: 0.8267 - val_loss: 0.7365 - val_accuracy: 0.7704\n",
            "Epoch 4/5\n",
            "24/24 [==============================] - 12s 493ms/step - loss: 0.4690 - accuracy: 0.8680 - val_loss: 0.6847 - val_accuracy: 0.7808\n",
            "Epoch 5/5\n",
            "24/24 [==============================] - 11s 484ms/step - loss: 0.3771 - accuracy: 0.9133 - val_loss: 0.6792 - val_accuracy: 0.7748\n"
          ]
        }
      ]
    },
    {
      "cell_type": "markdown",
      "source": [
        "Eventhouogh we used olnly 10% of the training data, we can see that the model performence increased compared to last one."
      ],
      "metadata": {
        "id": "c-IPjEmDPMJL"
      }
    },
    {
      "cell_type": "code",
      "source": [
        "# Plot the validation and training data separately\n",
        "def plot_loss_curves(history):\n",
        "  \"\"\"\n",
        "  Returns separate loss curves for training and validation metrics.\n",
        "  \"\"\"\n",
        "  loss = history.history['loss']\n",
        "  val_loss = history.history['val_loss']\n",
        "\n",
        "  accuracy = history.history['accuracy']\n",
        "  val_accuracy = history.history['val_accuracy']\n",
        "\n",
        "  epochs = range(len(history.history['loss']))\n",
        "\n",
        "  # Plot loss\n",
        "  plt.plot(epochs, loss, label='training_loss')\n",
        "  plt.plot(epochs, val_loss, label='val_loss')\n",
        "  plt.title('Loss')\n",
        "  plt.xlabel('Epochs')\n",
        "  plt.legend()\n",
        "\n",
        "  # Plot accuracy\n",
        "  plt.figure()\n",
        "  plt.plot(epochs, accuracy, label='training_accuracy')\n",
        "  plt.plot(epochs, val_accuracy, label='val_accuracy')\n",
        "  plt.title('Accuracy')\n",
        "  plt.xlabel('Epochs')\n",
        "  plt.legend();"
      ],
      "metadata": {
        "id": "YPPy5UAOPgBx"
      },
      "execution_count": 13,
      "outputs": []
    },
    {
      "cell_type": "code",
      "source": [
        "plot_loss_curves(resnet_history)"
      ],
      "metadata": {
        "id": "6QAuZ1YhPwCZ",
        "outputId": "1ce823bd-e84f-4969-932f-a3ebd1e6ed24",
        "colab": {
          "base_uri": "https://localhost:8080/",
          "height": 927
        }
      },
      "execution_count": 14,
      "outputs": [
        {
          "output_type": "display_data",
          "data": {
            "text/plain": [
              "<Figure size 640x480 with 1 Axes>"
            ],
            "image/png": "[encoded data removed]"
          },
          "metadata": {}
        },
        {
          "output_type": "display_data",
          "data": {
            "text/plain": [
              "<Figure size 640x480 with 1 Axes>"
            ],
            "image/png": "[encoded data removed]"
          },
          "metadata": {}
        }
      ]
    },
    {
      "cell_type": "code",
      "source": [
        "# Create model\n",
        "efficientnet_model = create_model(model_url=efficientnet_url, # use EfficientNetB0 TensorFlow Hub URL\n",
        "                                  num_classes=train_data.num_classes)\n",
        "\n",
        "# Compile EfficientNet model\n",
        "efficientnet_model.compile(loss='categorical_crossentropy',\n",
        "                           optimizer=tf.keras.optimizers.Adam(),\n",
        "                           metrics=['accuracy'])\n",
        "\n",
        "# Fit EfficientNet model\n",
        "efficientnet_history = efficientnet_model.fit(train_data, # only use 10% of training data\n",
        "                                              epochs=5, # train for 5 epochs\n",
        "                                              steps_per_epoch=len(train_data),\n",
        "                                              validation_data=test_data,\n",
        "                                              validation_steps=len(test_data),\n",
        "                                              callbacks=create_tensorboard_callback(dirname=\"tensorflow_hub\",\n",
        "                                                                                     # Track logs under different experiment name\n",
        "                                                                                     experiment_name=\"efficientnetB0\"))"
      ],
      "metadata": {
        "id": "WdFT6lihP55X",
        "outputId": "892b47ec-e776-4eba-d631-42a69c76758e",
        "colab": {
          "base_uri": "https://localhost:8080/"
        }
      },
      "execution_count": 15,
      "outputs": [
        {
          "output_type": "stream",
          "name": "stdout",
          "text": [
            "Saving TensorBorad log files to tensorflow_hub/efficientnetB020240125-174507 \n",
            "Epoch 1/5\n",
            "24/24 [==============================] - 25s 573ms/step - loss: 1.8847 - accuracy: 0.4027 - val_loss: 1.3152 - val_accuracy: 0.7448\n",
            "Epoch 2/5\n",
            "24/24 [==============================] - 11s 463ms/step - loss: 1.0759 - accuracy: 0.7680 - val_loss: 0.8756 - val_accuracy: 0.8124\n",
            "Epoch 3/5\n",
            "24/24 [==============================] - 11s 481ms/step - loss: 0.7603 - accuracy: 0.8400 - val_loss: 0.7001 - val_accuracy: 0.8384\n",
            "Epoch 4/5\n",
            "24/24 [==============================] - 11s 456ms/step - loss: 0.6104 - accuracy: 0.8693 - val_loss: 0.6106 - val_accuracy: 0.8484\n",
            "Epoch 5/5\n",
            "24/24 [==============================] - 11s 452ms/step - loss: 0.5135 - accuracy: 0.8987 - val_loss: 0.5563 - val_accuracy: 0.8600\n"
          ]
        }
      ]
    },
    {
      "cell_type": "markdown",
      "source": [
        "# Transfer Learning with Tensorflow - Fine Tuning"
      ],
      "metadata": {
        "id": "TQ4Jvjy2teTY"
      }
    },
    {
      "cell_type": "code",
      "source": [
        "# Get helper_functions.py script from course GitHub\n",
        "!wget https://raw.githubusercontent.com/mrdbourke/tensorflow-deep-learning/main/extras/helper_functions.py\n",
        "\n",
        "# Import helper functions we're going to use\n",
        "from helper_functions import create_tensorboard_callback, plot_loss_curves, unzip_data, walk_through_dir"
      ],
      "metadata": {
        "id": "VtGtC1n4w6B1",
        "outputId": "39e10c58-00b9-4581-a050-f252ee89a4b6",
        "colab": {
          "base_uri": "https://localhost:8080/"
        }
      },
      "execution_count": 16,
      "outputs": [
        {
          "output_type": "stream",
          "name": "stdout",
          "text": [
            "--2024-01-25 18:04:27--  https://raw.githubusercontent.com/mrdbourke/tensorflow-deep-learning/main/extras/helper_functions.py\n",
            "Resolving raw.githubusercontent.com (raw.githubusercontent.com)... 185.199.110.133, 185.199.111.133, 185.199.108.133, ...\n",
            "Connecting to raw.githubusercontent.com (raw.githubusercontent.com)|185.199.110.133|:443... connected.\n",
            "HTTP request sent, awaiting response... 200 OK\n",
            "Length: 10246 (10K) [text/plain]\n",
            "Saving to: ‘helper_functions.py’\n",
            "\n",
            "helper_functions.py 100%[===================>]  10.01K  --.-KB/s    in 0s      \n",
            "\n",
            "2024-01-25 18:04:27 (106 MB/s) - ‘helper_functions.py’ saved [10246/10246]\n",
            "\n"
          ]
        }
      ]
    },
    {
      "cell_type": "markdown",
      "source": [
        "###Let's get some data\n",
        "Now we are going to use inbuild models in tf.keras.applications"
      ],
      "metadata": {
        "id": "b2Tzq94iy5zi"
      }
    },
    {
      "cell_type": "code",
      "source": [
        "# Get 10% of the data of the 10 classes\n",
        "!wget https://storage.googleapis.com/ztm_tf_course/food_vision/10_food_classes_10_percent.zip\n",
        "\n",
        "unzip_data(\"10_food_classes_10_percent.zip\")"
      ],
      "metadata": {
        "id": "NVwBMSpI0Tg4",
        "outputId": "5992c99d-e5dd-44ab-c3eb-2a98d9ddae7e",
        "colab": {
          "base_uri": "https://localhost:8080/"
        }
      },
      "execution_count": 18,
      "outputs": [
        {
          "output_type": "stream",
          "name": "stdout",
          "text": [
            "--2024-01-25 18:10:51--  https://storage.googleapis.com/ztm_tf_course/food_vision/10_food_classes_10_percent.zip\n",
            "Resolving storage.googleapis.com (storage.googleapis.com)... 64.233.170.207, 142.251.175.207, 74.125.24.207, ...\n",
            "Connecting to storage.googleapis.com (storage.googleapis.com)|64.233.170.207|:443... connected.\n",
            "HTTP request sent, awaiting response... 200 OK\n",
            "Length: 168546183 (161M) [application/zip]\n",
            "Saving to: ‘10_food_classes_10_percent.zip.1’\n",
            "\n",
            "10_food_classes_10_ 100%[===================>] 160.74M  24.0MB/s    in 7.8s    \n",
            "\n",
            "2024-01-25 18:10:59 (20.6 MB/s) - ‘10_food_classes_10_percent.zip.1’ saved [168546183/168546183]\n",
            "\n"
          ]
        }
      ]
    },
    {
      "cell_type": "code",
      "source": [
        "\n",
        "# Walk through 10 percent data directory and list number of files\n",
        "walk_through_dir(\"10_food_classes_10_percent\")"
      ],
      "metadata": {
        "id": "heQA5HKz0WPV",
        "outputId": "371003c4-84c2-4e45-9794-e3b7c4f10858",
        "colab": {
          "base_uri": "https://localhost:8080/"
        }
      },
      "execution_count": 19,
      "outputs": [
        {
          "output_type": "stream",
          "name": "stdout",
          "text": [
            "There are 2 directories and 0 images in '10_food_classes_10_percent'.\n",
            "There are 10 directories and 0 images in '10_food_classes_10_percent/train'.\n",
            "There are 0 directories and 75 images in '10_food_classes_10_percent/train/sushi'.\n",
            "There are 0 directories and 75 images in '10_food_classes_10_percent/train/chicken_curry'.\n",
            "There are 0 directories and 75 images in '10_food_classes_10_percent/train/grilled_salmon'.\n",
            "There are 0 directories and 75 images in '10_food_classes_10_percent/train/steak'.\n",
            "There are 0 directories and 75 images in '10_food_classes_10_percent/train/pizza'.\n",
            "There are 0 directories and 75 images in '10_food_classes_10_percent/train/chicken_wings'.\n",
            "There are 0 directories and 75 images in '10_food_classes_10_percent/train/hamburger'.\n",
            "There are 0 directories and 75 images in '10_food_classes_10_percent/train/fried_rice'.\n",
            "There are 0 directories and 75 images in '10_food_classes_10_percent/train/ice_cream'.\n",
            "There are 0 directories and 75 images in '10_food_classes_10_percent/train/ramen'.\n",
            "There are 10 directories and 0 images in '10_food_classes_10_percent/test'.\n",
            "There are 0 directories and 250 images in '10_food_classes_10_percent/test/sushi'.\n",
            "There are 0 directories and 250 images in '10_food_classes_10_percent/test/chicken_curry'.\n",
            "There are 0 directories and 250 images in '10_food_classes_10_percent/test/grilled_salmon'.\n",
            "There are 0 directories and 250 images in '10_food_classes_10_percent/test/steak'.\n",
            "There are 0 directories and 250 images in '10_food_classes_10_percent/test/pizza'.\n",
            "There are 0 directories and 250 images in '10_food_classes_10_percent/test/chicken_wings'.\n",
            "There are 0 directories and 250 images in '10_food_classes_10_percent/test/hamburger'.\n",
            "There are 0 directories and 250 images in '10_food_classes_10_percent/test/fried_rice'.\n",
            "There are 0 directories and 250 images in '10_food_classes_10_percent/test/ice_cream'.\n",
            "There are 0 directories and 250 images in '10_food_classes_10_percent/test/ramen'.\n"
          ]
        }
      ]
    },
    {
      "cell_type": "code",
      "source": [
        "\n",
        "# Create training and test directories\n",
        "train_dir = \"10_food_classes_10_percent/train/\"\n",
        "test_dir = \"10_food_classes_10_percent/test/\""
      ],
      "metadata": {
        "id": "U1WXZInP0enQ"
      },
      "execution_count": 20,
      "outputs": []
    },
    {
      "cell_type": "code",
      "source": [
        " #Create data inputs\n",
        "import tensorflow as tf\n",
        "IMG_SIZE = (224, 224) # define image size\n",
        "train_data_10_percent = tf.keras.preprocessing.image_dataset_from_directory(directory=train_dir,\n",
        "                                                                            image_size=IMG_SIZE,\n",
        "                                                                            label_mode=\"categorical\", # what type are the labels?\n",
        "                                                                            batch_size=32) # batch_size is 32 by default, this is generally a good number\n",
        "test_data_10_percent = tf.keras.preprocessing.image_dataset_from_directory(directory=test_dir,\n",
        "                                                                           image_size=IMG_SIZE,\n",
        "                                                                           label_mode=\"categorical\")\n",
        ""
      ],
      "metadata": {
        "id": "rRb6b8f30kUC",
        "outputId": "c74f40c4-4041-4fd9-91e7-660648164594",
        "colab": {
          "base_uri": "https://localhost:8080/"
        }
      },
      "execution_count": 21,
      "outputs": [
        {
          "output_type": "stream",
          "name": "stdout",
          "text": [
            "Found 750 files belonging to 10 classes.\n",
            "Found 2500 files belonging to 10 classes.\n"
          ]
        }
      ]
    },
    {
      "cell_type": "code",
      "source": [
        "\n",
        "# Check the training data datatype\n",
        "train_data_10_percent"
      ],
      "metadata": {
        "id": "xBuuFuoc0x0k",
        "outputId": "6f6ccbee-428a-4e2c-9359-c0fd8f89bc2b",
        "colab": {
          "base_uri": "https://localhost:8080/"
        }
      },
      "execution_count": 22,
      "outputs": [
        {
          "output_type": "execute_result",
          "data": {
            "text/plain": [
              "<_PrefetchDataset element_spec=(TensorSpec(shape=(None, 224, 224, 3), dtype=tf.float32, name=None), TensorSpec(shape=(None, 10), dtype=tf.float32, name=None))>"
            ]
          },
          "metadata": {},
          "execution_count": 22
        }
      ]
    }
  ]
}