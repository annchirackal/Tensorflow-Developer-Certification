{
  "nbformat": 4,
  "nbformat_minor": 0,
  "metadata": {
    "colab": {
      "provenance": [],
      "authorship_tag": "ABX9TyM5SD+ZDzgrAHphjrNxpAdf",
      "include_colab_link": true
    },
    "kernelspec": {
      "name": "python3",
      "display_name": "Python 3"
    },
    "language_info": {
      "name": "python"
    }
  },
  "cells": [
    {
      "cell_type": "markdown",
      "metadata": {
        "id": "view-in-github",
        "colab_type": "text"
      },
      "source": [
        "<a href=\"https://colab.research.google.com/github/annchirackal/Tensorflow-Developer-Certification/blob/main/8_Confusion_Matrix.ipynb\" target=\"_parent\"><img src=\"https://colab.research.google.com/assets/colab-badge.svg\" alt=\"Open In Colab\"/></a>"
      ]
    },
    {
      "cell_type": "markdown",
      "source": [
        "Alongside visulatising the model results as much as possible, there is a handful evalution methods and metrics:\n",
        "*   Accuracy\n",
        "*   Precision or specificity\n",
        "*   Recall\n",
        "*   F1 - score\n",
        "*   Confusion Matrix\n",
        "*   Classification report\n",
        "\n",
        "\n",
        "![image.png](data:image/png;base64,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)\n",
        "\n",
        "\n",
        "\n"
      ],
      "metadata": {
        "id": "-w__Ojj8VWJL"
      }
    },
    {
      "cell_type": "code",
      "source": [
        "#Lets create a quick toy dataset to play with.\n",
        "from sklearn.datasets import make_circles\n",
        "n_samples=100\n",
        "x,y=make_circles(n_samples,noise=0.03,random_state=42)\n",
        "#Split the dataset into traning and test\n",
        "from sklearn.model_selection import train_test_split\n",
        "X_train,X_test,y_train,y_test=train_test_split(x,y,test_size=0.2)\n",
        "\n",
        "#Model Creation\n",
        "import tensorflow as tf\n",
        "#set random seed\n",
        "tf.random.set_seed=42\n",
        "#Model\n",
        "model=tf.keras.Sequential([\n",
        "    tf.keras.layers.Dense(4,activation=\"relu\"),\n",
        "    tf.keras.layers.Dense(4,activation=\"relu\"),\n",
        "    tf.keras.layers.Dense(1,activation='sigmoid')\n",
        "])\n",
        "#Complite the model\n",
        "model.compile(loss=tf.keras.losses.BinaryCrossentropy(),\n",
        "              optimizer=tf.keras.optimizers.Adam(learning_rate=0.02),\n",
        "              metrics=[\"accuracy\"])\n",
        "\n",
        "#fit the model\n",
        "history=model.fit(X_train,y_train,epochs=500,verbose=0)\n"
      ],
      "metadata": {
        "id": "GBDP4hrUW3wV"
      },
      "execution_count": 11,
      "outputs": []
    },
    {
      "cell_type": "markdown",
      "source": [
        "Lets Try different evalution metrics on our model"
      ],
      "metadata": {
        "id": "iUQG-7HuAJdt"
      }
    },
    {
      "cell_type": "code",
      "source": [
        "#Check accuracy of the model\n",
        "loss,accuracy = model.evaluate(X_test,y_test)\n",
        "print(\"model accuracy:{}\".format(accuracy))\n",
        "print(\"model loss    :{}\".format(loss))"
      ],
      "metadata": {
        "id": "KM7PBCkMkhOS",
        "colab": {
          "base_uri": "https://localhost:8080/"
        },
        "outputId": "d882e43b-03e3-4795-9046-47c6efc06b15"
      },
      "execution_count": 12,
      "outputs": [
        {
          "output_type": "stream",
          "name": "stdout",
          "text": [
            "1/1 [==============================] - 0s 108ms/step - loss: 0.4433 - accuracy: 0.7500\n",
            "model accuracy:0.75\n",
            "model loss    :0.44328564405441284\n"
          ]
        }
      ]
    },
    {
      "cell_type": "markdown",
      "source": [
        "Model is 75% accuracy. In order to analyse more and to see where the model is going wrong, lets build confution matrix"
      ],
      "metadata": {
        "id": "PgBNJQnRB-Oz"
      }
    },
    {
      "cell_type": "code",
      "source": [
        "from scipy.sparse.data import matrix\n",
        "from sklearn.metrics import confusion_matrix\n",
        "\n",
        " #lets use scikit learn confusion matrix function to build the confusion matrix\n",
        "y_pred= tf.round(model.predict(X_test))\n",
        "confusion_matrix(y_true=y_test,y_pred=(y_pred))"
      ],
      "metadata": {
        "colab": {
          "base_uri": "https://localhost:8080/"
        },
        "id": "Xm1LopK1A6QW",
        "outputId": "ff11e7e4-9b2d-4af8-d1d8-e4dc3bec694f"
      },
      "execution_count": 20,
      "outputs": [
        {
          "output_type": "stream",
          "name": "stdout",
          "text": [
            "1/1 [==============================] - 0s 16ms/step\n"
          ]
        },
        {
          "output_type": "execute_result",
          "data": {
            "text/plain": [
              "array([[8, 0],\n",
              "       [5, 7]])"
            ]
          },
          "metadata": {},
          "execution_count": 20
        }
      ]
    },
    {
      "cell_type": "markdown",
      "source": [
        "This is confusing. Lets make it more readable"
      ],
      "metadata": {
        "id": "IYh2eX6_FDUP"
      }
    },
    {
      "cell_type": "code",
      "source": [
        "from prompt_toolkit.layout.containers import HorizontalAlign\n",
        "from pandas.core.dtypes.common import classes\n",
        "import itertools\n",
        "import matplotlib.pyplot as plt\n",
        "\n",
        "figsize =(10,10)\n",
        "cm=confusion_matrix(y_true=y_test,y_pred=y_pred)\n",
        "cm_norm=cm.astype(\"float\")/cm.sum(axis=1)[:,np.newaxis ] # normalise the condusion matrix\n",
        "n_classes = cm.shape[0]\n",
        "\n",
        "fig,ax= plt.subplots(figsize=figsize)\n",
        "cax=ax.matshow(cm,cmap=plt.cm.Blues)\n",
        "\n",
        "classes=False\n",
        "\n",
        "if classes:\n",
        "  labels=classes\n",
        "else:\n",
        "  labels=np.arange(cm.shape[0])\n",
        "\n",
        "#Lablel axex\n",
        "ax.set(title=\"Confusion Matrix\",\n",
        "       xlabel=\"Predicted Label\",\n",
        "       ylabel=\"True Label\",\n",
        "       xticks=np.arange(n_classes),\n",
        "       yticks=np.arange(n_classes),\n",
        "       xticklabels=labels,\n",
        "       yticklabels=labels)\n",
        "#set threshold for diffrent colors\n",
        "\n",
        "#Visulase the confusion matrix\n",
        "for i,j in itertools.product(range(cm.shape[0]),range(cm.shape[1])):\n",
        "  plt.text(j,i,f\"{cm[i,j]}({cm_norm[i,j]*100:1f}%)\",\n",
        "           horizontalalignment=\"center\",\n",
        "           color=\"black\")"
      ],
      "metadata": {
        "colab": {
          "base_uri": "https://localhost:8080/",
          "height": 632
        },
        "id": "zXAyJLlTIn2X",
        "outputId": "1682b804-4dac-4b74-a705-5923ad022df2"
      },
      "execution_count": 30,
      "outputs": [
        {
          "output_type": "display_data",
          "data": {
            "text/plain": [
              "<Figure size 720x720 with 1 Axes>"
            ],
            "image/png": "[encoded data removed]"
          },
          "metadata": {
            "needs_background": "light"
          }
        }
      ]
    }
  ]
}