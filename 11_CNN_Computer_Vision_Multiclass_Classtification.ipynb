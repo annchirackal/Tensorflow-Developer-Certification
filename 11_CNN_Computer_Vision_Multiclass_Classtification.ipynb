{
  "nbformat": 4,
  "nbformat_minor": 0,
  "metadata": {
    "colab": {
      "provenance": [],
      "authorship_tag": "ABX9TyM/dNnNhtNkiOZUODWnI90Q",
      "include_colab_link": true
    },
    "kernelspec": {
      "name": "python3",
      "display_name": "Python 3"
    },
    "language_info": {
      "name": "python"
    }
  },
  "cells": [
    {
      "cell_type": "markdown",
      "metadata": {
        "id": "view-in-github",
        "colab_type": "text"
      },
      "source": [
        "<a href=\"https://colab.research.google.com/github/annchirackal/Tensorflow-Developer-Certification/blob/TF_certification_practice_CNN/10_CNN_Computer_Vision_Multiclass_Classtification.ipynb\" target=\"_parent\"><img src=\"https://colab.research.google.com/assets/colab-badge.svg\" alt=\"Open In Colab\"/></a>"
      ]
    },
    {
      "cell_type": "markdown",
      "source": [
        "The intension of this notebook is to do muticlass classification for images.\n",
        "Our data consistes image of different food itens and we are going to bulid a model which can identify each of the food items"
      ],
      "metadata": {
        "id": "ztb28HpjAJsH"
      }
    },
    {
      "cell_type": "code",
      "execution_count": 1,
      "metadata": {
        "id": "ffOL1ujXQBo2"
      },
      "outputs": [],
      "source": [
        "from tensorflow.keras import layers,optimizers\n",
        "import os\n",
        "from tensorflow.keras.utils import image_dataset_from_directory\n",
        "\n",
        "import zipfile"
      ]
    },
    {
      "cell_type": "code",
      "source": [
        "# Download zip file of 10_food_classes images\n",
        "# See how this data was created - https://github.com/mrdbourke/tensorflow-deep-learning/blob/main/extras/image_data_modification.ipynb\n",
        "!wget https://storage.googleapis.com/ztm_tf_course/food_vision/10_food_classes_all_data.zip"
      ],
      "metadata": {
        "id": "HRcDx4kSAnqw",
        "outputId": "08be0e90-d7e9-477d-fea7-dc54765da3bc",
        "colab": {
          "base_uri": "https://localhost:8080/"
        }
      },
      "execution_count": 2,
      "outputs": [
        {
          "output_type": "stream",
          "name": "stdout",
          "text": [
            "--2024-01-09 14:09:20--  https://storage.googleapis.com/ztm_tf_course/food_vision/10_food_classes_all_data.zip\n",
            "Resolving storage.googleapis.com (storage.googleapis.com)... 142.251.2.207, 2607:f8b0:4023:c0d::cf, 2607:f8b0:4023:c03::cf\n",
            "Connecting to storage.googleapis.com (storage.googleapis.com)|142.251.2.207|:443... connected.\n",
            "HTTP request sent, awaiting response... 200 OK\n",
            "Length: 519183241 (495M) [application/zip]\n",
            "Saving to: ‘10_food_classes_all_data.zip’\n",
            "\n",
            "10_food_classes_all 100%[===================>] 495.13M   209MB/s    in 2.4s    \n",
            "\n",
            "2024-01-09 14:09:23 (209 MB/s) - ‘10_food_classes_all_data.zip’ saved [519183241/519183241]\n",
            "\n"
          ]
        }
      ]
    },
    {
      "cell_type": "code",
      "source": [
        "zip_ref=zipfile.ZipFile(\"10_food_classes_all_data.zip\")\n",
        "zip_ref.extractall()\n",
        "zip_ref.close()\n",
        "\n"
      ],
      "metadata": {
        "id": "ZT9k7KJSA_jY"
      },
      "execution_count": 3,
      "outputs": []
    },
    {
      "cell_type": "code",
      "source": [
        "for root, dirs, files in os.walk(\"10_food_classes_all_data\"):\n",
        "  print(f\"There are {len(dirs)} directores and {len(files)} images in {root} \")"
      ],
      "metadata": {
        "id": "Xf95CKXwBVy2",
        "outputId": "eedebb3e-0a39-46fc-8f5f-57273e8cbcd9",
        "colab": {
          "base_uri": "https://localhost:8080/"
        }
      },
      "execution_count": 4,
      "outputs": [
        {
          "output_type": "stream",
          "name": "stdout",
          "text": [
            "There are 2 directores and 0 images in 10_food_classes_all_data \n",
            "There are 10 directores and 0 images in 10_food_classes_all_data/test \n",
            "There are 0 directores and 250 images in 10_food_classes_all_data/test/chicken_curry \n",
            "There are 0 directores and 250 images in 10_food_classes_all_data/test/ice_cream \n",
            "There are 0 directores and 250 images in 10_food_classes_all_data/test/steak \n",
            "There are 0 directores and 250 images in 10_food_classes_all_data/test/grilled_salmon \n",
            "There are 0 directores and 250 images in 10_food_classes_all_data/test/pizza \n",
            "There are 0 directores and 250 images in 10_food_classes_all_data/test/ramen \n",
            "There are 0 directores and 250 images in 10_food_classes_all_data/test/fried_rice \n",
            "There are 0 directores and 250 images in 10_food_classes_all_data/test/sushi \n",
            "There are 0 directores and 250 images in 10_food_classes_all_data/test/chicken_wings \n",
            "There are 0 directores and 250 images in 10_food_classes_all_data/test/hamburger \n",
            "There are 10 directores and 0 images in 10_food_classes_all_data/train \n",
            "There are 0 directores and 750 images in 10_food_classes_all_data/train/chicken_curry \n",
            "There are 0 directores and 750 images in 10_food_classes_all_data/train/ice_cream \n",
            "There are 0 directores and 750 images in 10_food_classes_all_data/train/steak \n",
            "There are 0 directores and 750 images in 10_food_classes_all_data/train/grilled_salmon \n",
            "There are 0 directores and 750 images in 10_food_classes_all_data/train/pizza \n",
            "There are 0 directores and 750 images in 10_food_classes_all_data/train/ramen \n",
            "There are 0 directores and 750 images in 10_food_classes_all_data/train/fried_rice \n",
            "There are 0 directores and 750 images in 10_food_classes_all_data/train/sushi \n",
            "There are 0 directores and 750 images in 10_food_classes_all_data/train/chicken_wings \n",
            "There are 0 directores and 750 images in 10_food_classes_all_data/train/hamburger \n"
          ]
        }
      ]
    },
    {
      "cell_type": "markdown",
      "source": [
        "So, we have 10 image classes and we have 750 training images and 250 test images in each  classes"
      ],
      "metadata": {
        "id": "VuClCPoFCmfF"
      }
    },
    {
      "cell_type": "code",
      "source": [
        "test_path=\"10_food_classes_all_data/test\"\n",
        "train_path=\"10_food_classes_all_data/train\""
      ],
      "metadata": {
        "id": "7oHn7xPSC64v"
      },
      "execution_count": 5,
      "outputs": []
    },
    {
      "cell_type": "code",
      "source": [
        "train_data=image_dataset_from_directory(\n",
        "    train_path,\n",
        "  image_size=(224, 224),\n",
        "  batch_size=32)\n",
        "\n"
      ],
      "metadata": {
        "id": "FJ1aTIkND81Y",
        "outputId": "0421d091-21fb-4812-b099-40cff0a53d22",
        "colab": {
          "base_uri": "https://localhost:8080/"
        }
      },
      "execution_count": 6,
      "outputs": [
        {
          "output_type": "stream",
          "name": "stdout",
          "text": [
            "Found 7500 files belonging to 10 classes.\n"
          ]
        }
      ]
    },
    {
      "cell_type": "code",
      "source": [
        "for images,labels in  train_data.take(1):\n",
        "  print(images.shape,labels)"
      ],
      "metadata": {
        "id": "e-srRe7LGShI",
        "outputId": "8306a5d8-1b44-4bf7-f8a4-6ebe758c0d86",
        "colab": {
          "base_uri": "https://localhost:8080/"
        }
      },
      "execution_count": 7,
      "outputs": [
        {
          "output_type": "stream",
          "name": "stdout",
          "text": [
            "(32, 224, 224, 3) tf.Tensor([8 6 3 9 0 6 0 0 8 9 9 5 2 3 6 1 0 2 5 5 6 3 4 9 9 0 1 3 4 0 5 1], shape=(32,), dtype=int32)\n"
          ]
        }
      ]
    },
    {
      "cell_type": "code",
      "source": [],
      "metadata": {
        "id": "y-3O3AcDIodK"
      },
      "execution_count": 7,
      "outputs": []
    }
  ]
}
